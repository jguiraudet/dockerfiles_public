{
 "cells": [
  {
   "cell_type": "markdown",
   "metadata": {},
   "source": [
    "# Installation of the tutorials\n",
    "\n",
    "Run the following script to download the tutorials:"
   ]
  },
  {
   "cell_type": "code",
   "execution_count": 21,
   "metadata": {
    "collapsed": false
   },
   "outputs": [
    {
     "name": "stdout",
     "output_type": "stream",
     "text": [
      "Torch tutorials already downloaded.\n",
      "Failed to initialize NVML: GPU access blocked by the operating system\n",
      "cudaRuntimeGetVersion() failed with error #38\n",
      "No devices found.\n"
     ]
    }
   ],
   "source": [
    "%%bash\n",
    "# Downloads torch tutorials\n",
    "mkdir -p ~/tutorials\n",
    "cd ~/tutorials \n",
    "if [ ! -e torch ]; then \n",
    "    git clone https://github.com/torch/tutorials.git torch; \n",
    "else \n",
    "    echo \"Torch tutorials already downloaded.\"; \n",
    "fi\n",
    "\n",
    "# Check the presence of Cuda-enabled GPU\n",
    "nvidia-smi\n",
    "python ~/digits/digits/device_query.py"
   ]
  },
  {
   "cell_type": "markdown",
   "metadata": {},
   "source": [
    "# Tutorials\n",
    "* Torch\n",
    " * [1_get_started.ipynb](tutorials/torch/1_get_started.ipynb)\n",
    " * [7_imagenet_classification.ipynb](tutorials/torch/7_imagenet_classification.ipynb)\n",
    "* Caffe\n",
    " * [00-classification.ipynb](caffe/examples/00-classification.ipynb)\n",
    " * [01-learning-lenet.ipynb](caffe/examples/01-learning-lenet.ipynb)\n",
    " * [02-brewing-logreg.ipynb](caffe/examples/02-brewing-logreg.ipynb)\n",
    " * [03-fine-tuning.ipynb](caffe/examples/03-fine-tuning.ipynb)\n",
    " * [detection.ipynb](caffe/examples/detection.ipynb)\n",
    " * [net_surgery.ipynb](caffe/examples/net_surgery.ipynb)\n"
   ]
  },
  {
   "cell_type": "code",
   "execution_count": null,
   "metadata": {
    "collapsed": true
   },
   "outputs": [],
   "source": []
  }
 ],
 "metadata": {
  "kernelspec": {
   "display_name": "Python 2",
   "language": "python",
   "name": "python2"
  },
  "language_info": {
   "codemirror_mode": {
    "name": "ipython",
    "version": 2
   },
   "file_extension": ".py",
   "mimetype": "text/x-python",
   "name": "python",
   "nbconvert_exporter": "python",
   "pygments_lexer": "ipython2",
   "version": "2.7.11"
  }
 },
 "nbformat": 4,
 "nbformat_minor": 0
}
